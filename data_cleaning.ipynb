{
 "cells": [
  {
   "cell_type": "code",
   "execution_count": 2,
   "id": "c23e9e64",
   "metadata": {},
   "outputs": [],
   "source": [
    "import pandas as pd"
   ]
  },
  {
   "cell_type": "code",
   "execution_count": 3,
   "id": "7a37fbd0",
   "metadata": {},
   "outputs": [],
   "source": [
    "df = pd.read_csv('food.csv')"
   ]
  },
  {
   "cell_type": "code",
   "execution_count": 4,
   "id": "62519d72",
   "metadata": {},
   "outputs": [
    {
     "data": {
      "text/plain": [
       "Index(['Category', 'Description', 'Nutrient Data Bank Number',\n",
       "       'Data.Alpha Carotene', 'Data.Ash', 'Data.Beta Carotene',\n",
       "       'Data.Beta Cryptoxanthin', 'Data.Carbohydrate', 'Data.Cholesterol',\n",
       "       'Data.Choline', 'Data.Fiber', 'Data.Kilocalories',\n",
       "       'Data.Lutein and Zeaxanthin', 'Data.Lycopene', 'Data.Manganese',\n",
       "       'Data.Niacin', 'Data.Pantothenic Acid', 'Data.Protein',\n",
       "       'Data.Refuse Percentage', 'Data.Retinol', 'Data.Riboflavin',\n",
       "       'Data.Selenium', 'Data.Sugar Total', 'Data.Thiamin', 'Data.Water',\n",
       "       'Data.Fat.Monosaturated Fat', 'Data.Fat.Polysaturated Fat',\n",
       "       'Data.Fat.Saturated Fat', 'Data.Fat.Total Lipid',\n",
       "       'Data.Household Weights.1st Household Weight',\n",
       "       'Data.Household Weights.1st Household Weight Description',\n",
       "       'Data.Household Weights.2nd Household Weight',\n",
       "       'Data.Household Weights.2nd Household Weight Description',\n",
       "       'Data.Major Minerals.Calcium', 'Data.Major Minerals.Copper',\n",
       "       'Data.Major Minerals.Iron', 'Data.Major Minerals.Magnesium',\n",
       "       'Data.Major Minerals.Phosphorus', 'Data.Major Minerals.Potassium',\n",
       "       'Data.Major Minerals.Sodium', 'Data.Major Minerals.Zinc',\n",
       "       'Data.Vitamins.Vitamin A - IU', 'Data.Vitamins.Vitamin A - RAE',\n",
       "       'Data.Vitamins.Vitamin B12', 'Data.Vitamins.Vitamin B6',\n",
       "       'Data.Vitamins.Vitamin C', 'Data.Vitamins.Vitamin E',\n",
       "       'Data.Vitamins.Vitamin K'],\n",
       "      dtype='object')"
      ]
     },
     "execution_count": 4,
     "metadata": {},
     "output_type": "execute_result"
    }
   ],
   "source": [
    "df.columns"
   ]
  },
  {
   "cell_type": "code",
   "execution_count": 4,
   "id": "1c4149b9",
   "metadata": {},
   "outputs": [],
   "source": [
    "df = df[df['Data.Household Weights.1st Household Weight'] != 0]"
   ]
  },
  {
   "cell_type": "code",
   "execution_count": 5,
   "id": "60c58be1",
   "metadata": {},
   "outputs": [
    {
     "data": {
      "text/plain": [
       "Data.Household Weights.1st Household Weight Description\n",
       "1 cup                                                                       1359\n",
       "1 oz                                                                         881\n",
       "1 tbsp                                                                       252\n",
       "1 piece, cooked, excluding refuse (yield from 1 lb raw meat with refuse)     235\n",
       "1 serving                                                                    207\n",
       "                                                                            ... \n",
       "1 tsp,  (1 serving)                                                            1\n",
       "1 serving,  6 slices                                                           1\n",
       "1.94 oz,  (1 serving)                                                          1\n",
       "1 serving,  5 slices                                                           1\n",
       "2 tsp,  rounded                                                                1\n",
       "Name: count, Length: 818, dtype: int64"
      ]
     },
     "execution_count": 5,
     "metadata": {},
     "output_type": "execute_result"
    }
   ],
   "source": [
    "df['Data.Household Weights.1st Household Weight Description'].value_counts()"
   ]
  },
  {
   "cell_type": "code",
   "execution_count": 38,
   "id": "200ad679",
   "metadata": {},
   "outputs": [],
   "source": [
    "df.to_csv('food.csv')"
   ]
  },
  {
   "cell_type": "code",
   "execution_count": 10,
   "id": "9034930e",
   "metadata": {},
   "outputs": [
    {
     "data": {
      "text/plain": [
       "3912    0.0\n",
       "Name: Data.Sugar Total, dtype: float64"
      ]
     },
     "execution_count": 10,
     "metadata": {},
     "output_type": "execute_result"
    }
   ],
   "source": [
    "df[df['Description'] == \"CARBONATED BEV,GRAPE SODA\"]['Data.Sugar Total']"
   ]
  },
  {
   "cell_type": "code",
   "execution_count": null,
   "id": "197c5a00",
   "metadata": {},
   "outputs": [],
   "source": []
  }
 ],
 "metadata": {
  "kernelspec": {
   "display_name": "Python 3 (ipykernel)",
   "language": "python",
   "name": "python3"
  },
  "language_info": {
   "codemirror_mode": {
    "name": "ipython",
    "version": 3
   },
   "file_extension": ".py",
   "mimetype": "text/x-python",
   "name": "python",
   "nbconvert_exporter": "python",
   "pygments_lexer": "ipython3",
   "version": "3.11.5"
  }
 },
 "nbformat": 4,
 "nbformat_minor": 5
}
